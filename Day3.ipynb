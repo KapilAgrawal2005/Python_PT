{
  "nbformat": 4,
  "nbformat_minor": 0,
  "metadata": {
    "colab": {
      "provenance": []
    },
    "kernelspec": {
      "name": "python3",
      "display_name": "Python 3"
    },
    "language_info": {
      "name": "python"
    }
  },
  "cells": [
    {
      "cell_type": "code",
      "execution_count": 11,
      "metadata": {
        "id": "AOl6JlRUO7VY"
      },
      "outputs": [],
      "source": [
        "# Day3"
      ]
    },
    {
      "cell_type": "code",
      "source": [
        "# find the missing elements\n",
        "n= int(input(\"Enter the number of elements : \"))\n",
        "l = []\n",
        "for i in range(n):\n",
        "  ele = int(input(\"Enter the element : \"))\n",
        "  l.append(ele)\n",
        "print(l)\n",
        "l.sort()\n",
        "print(\"The missing numbers are : \" , end = \"\")\n",
        "for i in range(1,len(l)+1):\n",
        "  if (i==l[i-1]):\n",
        "    continue\n",
        "  else:\n",
        "    print(i,end=\" \")\n",
        "    break\n"
      ],
      "metadata": {
        "colab": {
          "base_uri": "https://localhost:8080/"
        },
        "id": "gmbmmihAUhNe",
        "outputId": "8d19ab5a-f194-428a-ca15-d3a8ac72e7cd"
      },
      "execution_count": 27,
      "outputs": [
        {
          "output_type": "stream",
          "name": "stdout",
          "text": [
            "Enter the number of elements : 5\n",
            "Enter the element : 6\n",
            "Enter the element : 1\n",
            "Enter the element : 3\n",
            "Enter the element : 2\n",
            "Enter the element : 5\n",
            "[6, 1, 3, 2, 5]\n",
            "The missing numbers are : 4 "
          ]
        }
      ]
    },
    {
      "cell_type": "code",
      "source": [
        "# functions\n",
        "def add():\n",
        "    a=int(input(\"Enter value of a: \"))\n",
        "    b=int(input(\"Enter value of b: \"))\n",
        "    res=a+b;\n",
        "    print(\"Addition is \",res)\n",
        "\n",
        "add();"
      ],
      "metadata": {
        "colab": {
          "base_uri": "https://localhost:8080/"
        },
        "id": "ZSpcPz-8VhUR",
        "outputId": "864eb2de-2f72-4a52-9742-f13d19429140"
      },
      "execution_count": 28,
      "outputs": [
        {
          "output_type": "stream",
          "name": "stdout",
          "text": [
            "Enter value of a: 3\n",
            "Enter value of b: 6\n",
            "Addition is  9\n"
          ]
        }
      ]
    },
    {
      "cell_type": "code",
      "source": [
        "# function with parameter\n",
        "def add(a, b):\n",
        "    res=a+b;\n",
        "    print(\"Addition is \",res)\n",
        "\n",
        "if __name__ == \"__main__\":\n",
        "    a=int(input(\"Enter value of a: \"))\n",
        "    b=int(input(\"Enter value of b: \"))\n",
        "    add(a, b);"
      ],
      "metadata": {
        "colab": {
          "base_uri": "https://localhost:8080/"
        },
        "id": "vqgkpNJKVvZi",
        "outputId": "af4bb86b-608a-481c-b572-0ab584e6dcaf"
      },
      "execution_count": 29,
      "outputs": [
        {
          "output_type": "stream",
          "name": "stdout",
          "text": [
            "Enter value of a: 4\n",
            "Enter value of b: 7\n",
            "Addition is  11\n"
          ]
        }
      ]
    },
    {
      "cell_type": "code",
      "source": [
        "# function with returning values\n",
        "def add(a, b):\n",
        "    res=a+b;\n",
        "    return res\n",
        "if __name__ == \"__main__\":\n",
        "    a=int(input(\"Enter value of a: \"))\n",
        "    b=int(input(\"Enter value of b: \"))\n",
        "    res = add(a, b);\n",
        "    print(\"Addition is \",res)"
      ],
      "metadata": {
        "colab": {
          "base_uri": "https://localhost:8080/"
        },
        "id": "MPXueuOLZkNu",
        "outputId": "1feebc67-a4f7-4492-88ca-be57cdd78381"
      },
      "execution_count": 31,
      "outputs": [
        {
          "output_type": "stream",
          "name": "stdout",
          "text": [
            "Enter value of a: 4\n",
            "Enter value of b: 6\n",
            "Addition is  10\n"
          ]
        }
      ]
    },
    {
      "cell_type": "code",
      "source": [
        "# function with multiple returning values\n",
        "def add(a, b):\n",
        "    res1=a+b;\n",
        "    res2=a-b;\n",
        "    res3=a*b;\n",
        "    res4=a/b;\n",
        "    return res1,res2,res3,res4;\n",
        "if __name__ == \"__main__\":\n",
        "    a=int(input(\"Enter value of a: \"))\n",
        "    b=int(input(\"Enter value of b: \"))\n",
        "    r1,r2,r3,r4 = add(a, b);\n",
        "    print(\"Addition is \",r1)\n",
        "    print(\"Subtraction is \",r2)\n",
        "    print(\"Multiplication is \",r3)\n",
        "    print(\"Division is \",r4)"
      ],
      "metadata": {
        "colab": {
          "base_uri": "https://localhost:8080/"
        },
        "id": "eZ1zIZ5IacNj",
        "outputId": "2bf28525-c2fc-4abe-eee3-84cf235e2e16"
      },
      "execution_count": 33,
      "outputs": [
        {
          "output_type": "stream",
          "name": "stdout",
          "text": [
            "Enter value of a: 4\n",
            "Enter value of b: 6\n",
            "Addition is  10\n",
            "Subtraction is  -2\n",
            "Multiplication is  24\n",
            "Division is  0.6666666666666666\n"
          ]
        }
      ]
    },
    {
      "cell_type": "code",
      "source": [
        "# variable arguements method\n",
        "def add(*a):\n",
        "    for i in a:\n",
        "      print(i)\n",
        "add(1,2,3,4)"
      ],
      "metadata": {
        "colab": {
          "base_uri": "https://localhost:8080/"
        },
        "id": "BFWT_dtBb-8c",
        "outputId": "679eac4c-1b2b-4e97-c3d7-c49e5e9e4834"
      },
      "execution_count": 35,
      "outputs": [
        {
          "output_type": "stream",
          "name": "stdout",
          "text": [
            "1\n",
            "2\n",
            "3\n",
            "4\n"
          ]
        }
      ]
    },
    {
      "cell_type": "code",
      "source": [
        "# variable arguements method\n",
        "def add(*a):\n",
        "  total = 0\n",
        "  for i in a:\n",
        "    total = total + i\n",
        "  print(\"The sum is : \",total)\n",
        "add(1,2,3,4)\n",
        "add(10,20,4)\n",
        "add(1,2,3,4,5,6,7,8,9,10)"
      ],
      "metadata": {
        "colab": {
          "base_uri": "https://localhost:8080/"
        },
        "id": "J8gkMyKQcp7U",
        "outputId": "d15eee7b-c345-4d90-8629-4d806c4d68ee"
      },
      "execution_count": 39,
      "outputs": [
        {
          "output_type": "stream",
          "name": "stdout",
          "text": [
            "The sum is :  10\n",
            "The sum is :  34\n",
            "The sum is :  55\n"
          ]
        }
      ]
    },
    {
      "cell_type": "code",
      "source": [
        "# factorial using recurssion\n",
        "n = int(input(\"Enter the number : \"))\n",
        "def fact(n):\n",
        "  if n==0:\n",
        "    return 1\n",
        "  else:\n",
        "    return n*fact(n-1)\n",
        "\n",
        "print(\"Factorial is : \",fact(n))"
      ],
      "metadata": {
        "colab": {
          "base_uri": "https://localhost:8080/"
        },
        "id": "9frri34KdXv0",
        "outputId": "d2a5d645-e96e-46d0-a62a-b643928d7d7c"
      },
      "execution_count": 42,
      "outputs": [
        {
          "output_type": "stream",
          "name": "stdout",
          "text": [
            "Enter the number : 4\n",
            "Factorial is :  24\n"
          ]
        }
      ]
    },
    {
      "cell_type": "code",
      "source": [
        "# multiply 2 numbers using recursion\n",
        "def mul(x,y):\n",
        "  if y==0 or x==0:\n",
        "    return 0\n",
        "  elif x==1:\n",
        "    return y\n",
        "  elif y==1:\n",
        "    return x\n",
        "  else:\n",
        "    return x+mul(x,y-1)\n",
        "x = int(input(\"Enter the first number : \"))\n",
        "y = int(input(\"Enter the second number : \"))\n",
        "mul(x,y)"
      ],
      "metadata": {
        "colab": {
          "base_uri": "https://localhost:8080/"
        },
        "id": "5ijT6mo6gr0X",
        "outputId": "c187fd3a-9b67-4d82-a6e6-bb070d4ba7ba"
      },
      "execution_count": 44,
      "outputs": [
        {
          "name": "stdout",
          "output_type": "stream",
          "text": [
            "Enter the first number : 5\n",
            "Enter the second number : 6\n"
          ]
        },
        {
          "output_type": "execute_result",
          "data": {
            "text/plain": [
              "30"
            ]
          },
          "metadata": {},
          "execution_count": 44
        }
      ]
    },
    {
      "cell_type": "code",
      "source": [
        "# addition of two number using lemda function\n",
        "add = lambda x,y : x+y\n",
        "print(\"Addition is : \",add(10,20))"
      ],
      "metadata": {
        "colab": {
          "base_uri": "https://localhost:8080/"
        },
        "id": "VIS8eyaqi6EJ",
        "outputId": "5e24c6ad-6d98-460c-c806-c844b91b36db"
      },
      "execution_count": 47,
      "outputs": [
        {
          "output_type": "stream",
          "name": "stdout",
          "text": [
            "Addition is :  30\n"
          ]
        }
      ]
    },
    {
      "cell_type": "code",
      "source": [
        "# find maximum\n",
        "max =  lambda x,y: x if x>y else y\n",
        "print(\"Max = \",max(4,5))"
      ],
      "metadata": {
        "colab": {
          "base_uri": "https://localhost:8080/"
        },
        "id": "JNJfhKlPj0bV",
        "outputId": "d7d471f5-177e-4af3-8d75-d9a4c08a7a91"
      },
      "execution_count": 49,
      "outputs": [
        {
          "output_type": "stream",
          "name": "stdout",
          "text": [
            "Max =  5\n"
          ]
        }
      ]
    },
    {
      "cell_type": "code",
      "source": [
        "# find intersection in two lists\n",
        "n1 = [1,2,2,1]\n",
        "n2 = [2,2]\n",
        "m = []\n",
        "for i in n1:\n",
        "  if i in n2:\n",
        "    m.append(i)\n",
        "print(m)\n"
      ],
      "metadata": {
        "colab": {
          "base_uri": "https://localhost:8080/"
        },
        "id": "IOEquSRskb5m",
        "outputId": "3b5936f1-0c11-4bb5-d8f2-0f27ba334d3b"
      },
      "execution_count": 59,
      "outputs": [
        {
          "output_type": "stream",
          "name": "stdout",
          "text": [
            "[2, 2]\n"
          ]
        }
      ]
    },
    {
      "cell_type": "code",
      "source": [
        "# n1 = [1,2,3]\n",
        "# n2 = [2,4,6]\n",
        "# l = []\n",
        "# for i in n2:\n",
        "#   for j in n1:\n",
        "#     if j in n2:\n",
        "#       continue\n",
        "#     else:\n",
        "#       l.append(j)\n",
        "# print(l)"
      ],
      "metadata": {
        "colab": {
          "base_uri": "https://localhost:8080/"
        },
        "id": "v_Rx6HzzrJ_H",
        "outputId": "b8e0a498-39a1-4c72-9011-8d44b54b4828"
      },
      "execution_count": 70,
      "outputs": [
        {
          "output_type": "stream",
          "name": "stdout",
          "text": [
            "[1, 3, 1, 3, 1, 3]\n"
          ]
        }
      ]
    },
    {
      "cell_type": "code",
      "source": [
        "# Array Rotation using another list\n",
        "k = int(input(\"Enter the number of steps : \"))\n",
        "n= int(input(\"Enter the number of elements : \"))\n",
        "l = []\n",
        "for i in range(n):\n",
        "  ele = int(input(\"Enter the element : \"))\n",
        "  l.append(ele)\n",
        "print(l)\n",
        "n = []\n",
        "for i in range(len(l)-k,len(l)):\n",
        "  n.append(l[i])\n",
        "for i in range(len(l)-k):\n",
        "  n.append(l[i])\n",
        "print(n)"
      ],
      "metadata": {
        "colab": {
          "base_uri": "https://localhost:8080/"
        },
        "id": "1P-2Xj30s-d_",
        "outputId": "4cce5e69-c8e9-476a-f61e-ada7c70bced0"
      },
      "execution_count": 89,
      "outputs": [
        {
          "output_type": "stream",
          "name": "stdout",
          "text": [
            "Enter the number of steps : 3\n",
            "Enter the number of elements : 6\n",
            "Enter the element : 1\n",
            "Enter the element : 2\n",
            "Enter the element : 3\n",
            "Enter the element : 4\n",
            "Enter the element : 5\n",
            "Enter the element : 6\n",
            "[1, 2, 3, 4, 5, 6]\n",
            "[4, 5, 6, 1, 2, 3]\n"
          ]
        }
      ]
    },
    {
      "cell_type": "code",
      "source": [
        "# Array Rotation without using another list\n",
        "k = int(input(\"Enter the number of steps : \"))\n",
        "n= int(input(\"Enter the number of elements : \"))\n",
        "l = []\n",
        "for i in range(n):\n",
        "  ele = int(input(\"Enter the element : \"))\n",
        "  l.append(ele)\n",
        "print(l)\n",
        "for i in range(k):\n",
        "  temp = l[-1]\n",
        "  for i in range(len(l)-1,-1,-1):\n",
        "    l[i] = l[i-1]\n",
        "  l[0] = temp\n",
        "print(l)"
      ],
      "metadata": {
        "colab": {
          "base_uri": "https://localhost:8080/"
        },
        "id": "RpV9ibrCymGe",
        "outputId": "5e517ec9-d731-4dc2-d1d1-fa7e89070564"
      },
      "execution_count": 90,
      "outputs": [
        {
          "output_type": "stream",
          "name": "stdout",
          "text": [
            "Enter the number of steps : 2\n",
            "Enter the number of elements : 5\n",
            "Enter the element : 1\n",
            "Enter the element : 2\n",
            "Enter the element : 3\n",
            "Enter the element : 4\n",
            "Enter the element : 5\n",
            "[1, 2, 3, 4, 5]\n",
            "[4, 5, 1, 2, 3]\n"
          ]
        }
      ]
    },
    {
      "cell_type": "code",
      "source": [
        "l = [-1,2,-3,4,5,-6]\n",
        "p= []\n",
        "n = []\n",
        "for i in l:\n",
        "  if i<0:\n",
        "    n.append(i)\n",
        "  else:\n",
        "    p.append(i)\n",
        "print(n)\n",
        "print(p)\n",
        "\n"
      ],
      "metadata": {
        "colab": {
          "base_uri": "https://localhost:8080/"
        },
        "id": "5p3K7O_LzHlG",
        "outputId": "977beb24-7ebb-4628-91db-f17fdf0a01c8"
      },
      "execution_count": 17,
      "outputs": [
        {
          "output_type": "stream",
          "name": "stdout",
          "text": [
            "[-1, -3, -6]\n",
            "[2, 4, 5]\n"
          ]
        }
      ]
    },
    {
      "cell_type": "code",
      "source": [
        "# find the first largest sub array that is contiguous in manner\n",
        "l = [1,2,3,4,5,7,8,9,10]\n",
        "n = []\n",
        "l.sort()\n",
        "for i in range(len(l)-1):\n",
        "  if l[i]+1 == l[i+1]:\n",
        "    n.append(l[i])\n",
        "  else:\n",
        "    n.append(l[i])\n",
        "    break\n",
        "print(n)"
      ],
      "metadata": {
        "colab": {
          "base_uri": "https://localhost:8080/"
        },
        "id": "LfGjdK8ZIN1V",
        "outputId": "566be7d5-c93f-449e-a8c8-4b8c2223301a"
      },
      "execution_count": 30,
      "outputs": [
        {
          "output_type": "stream",
          "name": "stdout",
          "text": [
            "[1, 2, 3, 4, 5]\n"
          ]
        }
      ]
    },
    {
      "cell_type": "code",
      "source": [
        "# find the sum of series\n",
        "x = int(input(\"Enter the value of x : \"))\n",
        "n = int(input(\"Enter the value of n : \"))\n",
        "sum = 1\n",
        "i = 1\n",
        "while(i<=n):\n",
        "  sum = sum + (x**i)/i\n",
        "  i +=1\n",
        "print(sum)\n"
      ],
      "metadata": {
        "colab": {
          "base_uri": "https://localhost:8080/"
        },
        "id": "4ASAPs1yMJic",
        "outputId": "6a91dce3-d055-495f-d0df-e49633537890"
      },
      "execution_count": 34,
      "outputs": [
        {
          "output_type": "stream",
          "name": "stdout",
          "text": [
            "Enter the value of x : 3\n",
            "Enter the value of n : 4\n",
            "37.75\n"
          ]
        }
      ]
    },
    {
      "cell_type": "code",
      "source": [
        "# find the sum of series\n",
        "x = int(input(\"Enter the value of x : \"))\n",
        "n = int(input(\"Enter the value of n : \"))\n",
        "sum = 1\n",
        "\n",
        "def fact(i):\n",
        "  if(i == 0):\n",
        "    return 1\n",
        "  else:\n",
        "    return i*fact(i-1)\n",
        "\n",
        "i = 1\n",
        "while(i<=n):\n",
        "  sum = sum + (x)/fact(i)\n",
        "  i +=1\n",
        "print(sum)"
      ],
      "metadata": {
        "colab": {
          "base_uri": "https://localhost:8080/"
        },
        "id": "wXP7VnObM5fP",
        "outputId": "9330a8d2-39c4-4a2b-fef0-6cbeaab7c924"
      },
      "execution_count": 37,
      "outputs": [
        {
          "output_type": "stream",
          "name": "stdout",
          "text": [
            "Enter the value of x : 4\n",
            "Enter the value of n : 3\n",
            "7.666666666666667\n"
          ]
        }
      ]
    },
    {
      "cell_type": "code",
      "source": [
        "# find the first missing positive integer\n",
        "n = int(input(\"Enter the number of elements : \"))\n",
        "l = []\n",
        "for i in range(n):\n",
        "  ele = int(input(\"Enter the element : \"))\n",
        "  l.append(ele)\n",
        "print(l)\n",
        "l.sort()\n",
        "for i in range(len(l)):\n",
        "  if l[i]<0:\n",
        "    continue\n",
        "  elif(l[i]+1 == l[i+1]):\n",
        "    continue\n",
        "  else:\n",
        "    print(l[i]+1)\n",
        "    break"
      ],
      "metadata": {
        "colab": {
          "base_uri": "https://localhost:8080/"
        },
        "id": "Qh18_rvTO-JA",
        "outputId": "f9eb9892-6821-4226-8f95-00d227d9803d"
      },
      "execution_count": 40,
      "outputs": [
        {
          "output_type": "stream",
          "name": "stdout",
          "text": [
            "Enter the number of elements : 5\n",
            "Enter the element : -2\n",
            "Enter the element : -4\n",
            "Enter the element : 1\n",
            "Enter the element : 2\n",
            "Enter the element : 6\n",
            "[-2, -4, 1, 2, 6]\n",
            "3\n"
          ]
        }
      ]
    },
    {
      "cell_type": "code",
      "source": [
        "# find the discount\n",
        "a,b = map(int,input().split())\n",
        "if (a>=1 and b<=5000):\n",
        "    if(b<a):\n",
        "        print(a-b)\n",
        "    else:\n",
        "        print(0)"
      ],
      "metadata": {
        "colab": {
          "base_uri": "https://localhost:8080/"
        },
        "id": "1ho2ATiqVVBN",
        "outputId": "ce3daf54-d3ed-463e-853f-2fab6ec5fb9d"
      },
      "execution_count": 41,
      "outputs": [
        {
          "output_type": "stream",
          "name": "stdout",
          "text": [
            "3000 1000\n",
            "2000\n"
          ]
        }
      ]
    },
    {
      "cell_type": "code",
      "source": [
        "# Find the AI can give the difficulty\n",
        "x = int(input())\n",
        "if(x>=1 and x<=100):\n",
        "    if(x<=60):\n",
        "        print(\"Yes\")\n",
        "    else:\n",
        "        print(\"No\")"
      ],
      "metadata": {
        "id": "CfD-UlKKVjH8"
      },
      "execution_count": null,
      "outputs": []
    }
  ]
}