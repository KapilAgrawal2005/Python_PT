{
  "nbformat": 4,
  "nbformat_minor": 0,
  "metadata": {
    "colab": {
      "provenance": []
    },
    "kernelspec": {
      "name": "python3",
      "display_name": "Python 3"
    },
    "language_info": {
      "name": "python"
    }
  },
  "cells": [
    {
      "cell_type": "code",
      "source": [
        "print(int(3.5))\n",
        "# print(it(\"3.5\"))\n",
        "print(int(3))\n",
        "# print(int(6+2j))\n",
        "print(int(\"6\"))\n",
        "# print(int(\"five\"))"
      ],
      "metadata": {
        "colab": {
          "base_uri": "https://localhost:8080/"
        },
        "id": "19KGSELxX99d",
        "outputId": "bd36beb3-2b6a-4ad7-d0a7-94529eec4cd9"
      },
      "execution_count": 3,
      "outputs": [
        {
          "output_type": "stream",
          "name": "stdout",
          "text": [
            "3\n",
            "3\n",
            "6\n"
          ]
        }
      ]
    },
    {
      "cell_type": "code",
      "source": [
        "print(float(3.5))\n",
        "print(float(\"3.5\"))\n",
        "print(float(3))\n",
        "# print(float(3+2j))\n",
        "print(float(\"5\"))\n",
        "# print(float(\"five\"))"
      ],
      "metadata": {
        "colab": {
          "base_uri": "https://localhost:8080/"
        },
        "id": "Ek_tDQcZYmh5",
        "outputId": "bbacefc8-7454-4b3a-f44a-1e38dc29fda1"
      },
      "execution_count": 5,
      "outputs": [
        {
          "output_type": "stream",
          "name": "stdout",
          "text": [
            "3.5\n",
            "3.5\n",
            "3.0\n",
            "5.0\n"
          ]
        }
      ]
    },
    {
      "cell_type": "code",
      "source": [
        "a=3\n",
        "b=2\n",
        "res = complex(a,b)\n",
        "print(res)\n",
        "print(complex(3))\n",
        "print(complex(True))\n",
        "print(complex(False))\n",
        "print(complex(True,True))"
      ],
      "metadata": {
        "colab": {
          "base_uri": "https://localhost:8080/"
        },
        "id": "I1oWwct2Y5Bv",
        "outputId": "9bd9c718-cad5-455f-f182-2e4dc994f857"
      },
      "execution_count": 7,
      "outputs": [
        {
          "output_type": "stream",
          "name": "stdout",
          "text": [
            "(3+2j)\n",
            "(3+0j)\n",
            "(1+0j)\n",
            "0j\n",
            "(1+1j)\n"
          ]
        }
      ]
    },
    {
      "cell_type": "code",
      "source": [
        "x = \"hello learning Python is very easy\"\n",
        "print('h' in x)\n",
        "print('d' in x)\n",
        "print('d' not in x)\n",
        "print('Python' in x)"
      ],
      "metadata": {
        "colab": {
          "base_uri": "https://localhost:8080/"
        },
        "id": "QC2qnZx9Ze-v",
        "outputId": "dc63d4e6-4f12-49ad-c187-44f3057dc21b"
      },
      "execution_count": 8,
      "outputs": [
        {
          "output_type": "stream",
          "name": "stdout",
          "text": [
            "True\n",
            "False\n",
            "True\n",
            "True\n"
          ]
        }
      ]
    },
    {
      "cell_type": "code",
      "source": [
        "a = 10\n",
        "b=10\n",
        "print(id(a))\n",
        "print(id(b))"
      ],
      "metadata": {
        "colab": {
          "base_uri": "https://localhost:8080/"
        },
        "id": "S0rUIZztZ4KH",
        "outputId": "08b3f433-a2b6-478c-8bfa-0c9b8ffc02af"
      },
      "execution_count": 10,
      "outputs": [
        {
          "output_type": "stream",
          "name": "stdout",
          "text": [
            "135928334631440\n",
            "135928334631440\n"
          ]
        }
      ]
    },
    {
      "cell_type": "code",
      "source": [
        "import math as m\n",
        "r = 5\n",
        "area = m.pi*(r**2)\n",
        "print(\"Area is\",area)"
      ],
      "metadata": {
        "colab": {
          "base_uri": "https://localhost:8080/"
        },
        "id": "5pcF5SCgacyh",
        "outputId": "16a627ff-993a-4aec-f1da-df3322f46be8"
      },
      "execution_count": 13,
      "outputs": [
        {
          "output_type": "stream",
          "name": "stdout",
          "text": [
            "Area is 78.53981633974483\n"
          ]
        }
      ]
    },
    {
      "cell_type": "code",
      "source": [
        "a=int(input(\"Enter a value : \"))\n",
        "b=int(input(\"Enter b value : \"))\n",
        "print(a+b)\n"
      ],
      "metadata": {
        "colab": {
          "base_uri": "https://localhost:8080/"
        },
        "id": "xOOs82EebRcA",
        "outputId": "f29a6ac5-9550-4bd8-cd2a-98ebcec97e9c"
      },
      "execution_count": 14,
      "outputs": [
        {
          "output_type": "stream",
          "name": "stdout",
          "text": [
            "Enter a value : 5\n",
            "Enter b value : 6\n",
            "11\n"
          ]
        }
      ]
    },
    {
      "cell_type": "code",
      "source": [
        "print(\"Addition is : \", int(input(\"Enter a value : \"))+int(input(\"Enter b value : \")))"
      ],
      "metadata": {
        "colab": {
          "base_uri": "https://localhost:8080/"
        },
        "id": "cmhoRjF1cIeK",
        "outputId": "dee64faa-c3f9-4b68-a6f5-c6050014b13d"
      },
      "execution_count": 15,
      "outputs": [
        {
          "output_type": "stream",
          "name": "stdout",
          "text": [
            "Enter a value : 5\n",
            "Enter b value : 8\n",
            "Addition is :  13\n"
          ]
        }
      ]
    },
    {
      "cell_type": "code",
      "source": [
        "a = eval(input(\"enter any expression : \"))\n",
        "print(a)"
      ],
      "metadata": {
        "colab": {
          "base_uri": "https://localhost:8080/"
        },
        "id": "mGNNgayzciTz",
        "outputId": "16051a6b-8df6-45e2-e300-93eebc09dc33"
      },
      "execution_count": 17,
      "outputs": [
        {
          "output_type": "stream",
          "name": "stdout",
          "text": [
            "enter any expression : 4+6-45\n",
            "-35\n"
          ]
        }
      ]
    },
    {
      "cell_type": "code",
      "source": [
        "print(\"hello \\n world\")\n",
        "print(\"hello \\t world\")\n",
        "print(\"hello\" + \"world\")\n",
        "print(\"hello\"*3)\n",
        "\n",
        "# escape sequence operator"
      ],
      "metadata": {
        "colab": {
          "base_uri": "https://localhost:8080/"
        },
        "id": "db1bV1f5dCQS",
        "outputId": "a514a845-4eff-44a8-fb86-65942e043ef2"
      },
      "execution_count": 20,
      "outputs": [
        {
          "output_type": "stream",
          "name": "stdout",
          "text": [
            "hello \n",
            " world\n",
            "hello \t world\n",
            "helloworld\n",
            "hellohellohello\n"
          ]
        }
      ]
    },
    {
      "cell_type": "code",
      "source": [
        "a,b,c = 10,20,30\n",
        "print(a,b,c)\n",
        "print(a,b,c,sep = \":\")"
      ],
      "metadata": {
        "colab": {
          "base_uri": "https://localhost:8080/"
        },
        "id": "qpX8-dMCd6i-",
        "outputId": "14466237-4f38-4e67-cf09-c69fabfb6e34"
      },
      "execution_count": 22,
      "outputs": [
        {
          "output_type": "stream",
          "name": "stdout",
          "text": [
            "10 20 30\n",
            "10:20:30\n"
          ]
        }
      ]
    },
    {
      "cell_type": "code",
      "source": [
        "print(\"Hello\" , end = \" \")\n",
        "print(\"Kapil\" , end = \" \")\n",
        "print(\"Agrawal\" , end = \" \")"
      ],
      "metadata": {
        "colab": {
          "base_uri": "https://localhost:8080/"
        },
        "id": "S3Y0DvNperyI",
        "outputId": "17894117-d78e-4c1e-d1fd-7c8c704f7da7"
      },
      "execution_count": 23,
      "outputs": [
        {
          "output_type": "stream",
          "name": "stdout",
          "text": [
            "Hello Kapil Agrawal "
          ]
        }
      ]
    },
    {
      "cell_type": "code",
      "source": [
        "a,b,c = 10,20,30\n",
        "print(\"a value is %i\" %a)\n",
        "print(\"b value is %d and c value is %d\" %(b,c))"
      ],
      "metadata": {
        "colab": {
          "base_uri": "https://localhost:8080/"
        },
        "id": "Erb2VyLBfTkU",
        "outputId": "0e1ddf7e-68ae-4eb4-b5d7-973bf68a7508"
      },
      "execution_count": 24,
      "outputs": [
        {
          "output_type": "stream",
          "name": "stdout",
          "text": [
            "a value is 10\n",
            "b value is 20 and c value is 30\n"
          ]
        }
      ]
    },
    {
      "cell_type": "code",
      "source": [
        "name = \"Kapil\"\n",
        "salary = 100000\n",
        "company = \"Oracle\"\n",
        "print(\"Hello {0} your salary is {1} and company is {2}\".format(name,salary,company))\n",
        "print(\"Hello {x} your salary is {y} and company is {z}\".format(x = name, y = salary,z = company))\n"
      ],
      "metadata": {
        "colab": {
          "base_uri": "https://localhost:8080/"
        },
        "id": "Znw8UnQygAT6",
        "outputId": "86023d01-8232-4bc4-e6a1-1604541d430e"
      },
      "execution_count": 25,
      "outputs": [
        {
          "output_type": "stream",
          "name": "stdout",
          "text": [
            "Hello Kapil your salary is 100000 and company is Oracle\n",
            "Hello Kapil your salary is 100000 and company is Oracle\n"
          ]
        }
      ]
    },
    {
      "cell_type": "code",
      "source": [
        "# find last digit of a number\n",
        "a = int(input(\"Enter a number : \"))\n",
        "print(a%10)"
      ],
      "metadata": {
        "colab": {
          "base_uri": "https://localhost:8080/"
        },
        "id": "ezaNzJp5grsn",
        "outputId": "ec5aacba-43c3-49ec-ad5e-6ede7244510e"
      },
      "execution_count": 28,
      "outputs": [
        {
          "output_type": "stream",
          "name": "stdout",
          "text": [
            "Enter a number : 23456\n",
            "6\n"
          ]
        }
      ]
    },
    {
      "cell_type": "code",
      "source": [
        "# find sum of 2 digit of a number\n",
        "a = int(input(\"Enter a number : \"))\n",
        "n1 = a%10\n",
        "n2 = a//10\n",
        "print(n1+n2)"
      ],
      "metadata": {
        "colab": {
          "base_uri": "https://localhost:8080/"
        },
        "id": "7mJL7K6qycSi",
        "outputId": "d5070bb1-dacf-4a8f-c4b6-0dd9ec0f6167"
      },
      "execution_count": 1,
      "outputs": [
        {
          "output_type": "stream",
          "name": "stdout",
          "text": [
            "Enter a number : 45\n",
            "9\n"
          ]
        }
      ]
    },
    {
      "cell_type": "code",
      "source": [
        "# find sum of 3 digit of a number\n",
        "a = int(input(\"Enter a number : \"))\n",
        "n1 = a%10\n",
        "a = a//10\n",
        "n2 = a%10\n",
        "a = a//10\n",
        "n3 = a%10\n",
        "print(n1+n2+n3)"
      ],
      "metadata": {
        "colab": {
          "base_uri": "https://localhost:8080/"
        },
        "id": "ASPwnh48zvOw",
        "outputId": "8bdf8238-1976-4009-fac9-063c87526075"
      },
      "execution_count": 2,
      "outputs": [
        {
          "output_type": "stream",
          "name": "stdout",
          "text": [
            "Enter a number : 133\n",
            "7\n"
          ]
        }
      ]
    },
    {
      "cell_type": "code",
      "source": [
        "# find sum of 5 digit of a number\n",
        "a = int(input(\"Enter a number : \"))\n",
        "n1 = a%10\n",
        "a = a//10\n",
        "n2 = a%10\n",
        "a = a//10\n",
        "n3 = a%10\n",
        "a = a//10\n",
        "n4 = a%10\n",
        "a = a//10\n",
        "n5 = a%10\n",
        "print(n1+n2+n3+n4+n5)"
      ],
      "metadata": {
        "colab": {
          "base_uri": "https://localhost:8080/"
        },
        "id": "06myWn7k05dr",
        "outputId": "4efe1609-a7b2-43d3-ec85-1f692be61c1f"
      },
      "execution_count": 3,
      "outputs": [
        {
          "output_type": "stream",
          "name": "stdout",
          "text": [
            "Enter a number : 12345\n",
            "15\n"
          ]
        }
      ]
    },
    {
      "cell_type": "code",
      "source": [
        "# find the reverse of a 5 digit number\n",
        "a = int(input(\"Enter a number : \"))\n",
        "n1 = a%10\n",
        "a = a//10\n",
        "n2 = a%10\n",
        "a = a//10\n",
        "n3 = a%10\n",
        "a = a//10\n",
        "n4 = a%10\n",
        "a = a//10\n",
        "n5 = a%10\n",
        "print(n1,n2,n3,n4,n5)"
      ],
      "metadata": {
        "colab": {
          "base_uri": "https://localhost:8080/"
        },
        "id": "KrKtVUTG13jU",
        "outputId": "51d55513-625a-4a01-e2ab-6bf1dbbf2c30"
      },
      "execution_count": 9,
      "outputs": [
        {
          "output_type": "stream",
          "name": "stdout",
          "text": [
            "Enter a number : 12345\n",
            "5 4 3 2 1\n"
          ]
        }
      ]
    },
    {
      "cell_type": "code",
      "source": [
        "#find the sum of first and last digit of a number\n",
        "a = int(input(\"Enter a number : \"))\n",
        "n1 = a//100000000\n",
        "n2 = a%10\n",
        "print(n1+n2)"
      ],
      "metadata": {
        "colab": {
          "base_uri": "https://localhost:8080/"
        },
        "id": "Fy69NZV32x4D",
        "outputId": "6c46cee1-8d75-4534-835e-cae86cff223b"
      },
      "execution_count": 10,
      "outputs": [
        {
          "output_type": "stream",
          "name": "stdout",
          "text": [
            "Enter a number : 123456789\n",
            "10\n"
          ]
        }
      ]
    },
    {
      "cell_type": "code",
      "source": [
        "s = \"Kapil\"\n",
        "print(s[0])\n",
        "print(s[-1])\n",
        "print(s[0:4])\n",
        "print(s[:4])\n",
        "print(s[::])\n",
        "print(s[2:4])\n",
        "print(s[::-1])"
      ],
      "metadata": {
        "colab": {
          "base_uri": "https://localhost:8080/"
        },
        "id": "haPRywEB5rAT",
        "outputId": "a411cd38-784c-4882-a6a6-405593ec3cf4"
      },
      "execution_count": 12,
      "outputs": [
        {
          "output_type": "stream",
          "name": "stdout",
          "text": [
            "K\n",
            "l\n",
            "Kapi\n",
            "Kapi\n",
            "Kapil\n",
            "pi\n",
            "lipaK\n"
          ]
        }
      ]
    },
    {
      "cell_type": "code",
      "source": [
        "# accept 5 numbers and find max number\n",
        "a = int(input(\"Enter a number : \"))\n",
        "b = int(input(\"Enter b number : \"))\n",
        "c = int(input(\"Enter c number : \"))\n",
        "d = int(input(\"Enter d number : \"))\n",
        "e = int(input(\"Enter e number : \"))\n",
        "if a>b and a>c and a>d and a>e:\n",
        "    print(a,\"is max\")\n",
        "if b>a and b>c and b>d and b>e:\n",
        "    print(b,\"is max\")\n",
        "if c>a and c>b and c>d and c>e:\n",
        "    print(c,\"is max\")\n",
        "if d>a and d>b and d>c and d>e:\n",
        "    print(d,\"is max\")\n",
        "if e>a and e>b and e>c and e>d:\n",
        "    print(e,\"is max\")"
      ],
      "metadata": {
        "colab": {
          "base_uri": "https://localhost:8080/"
        },
        "id": "WYca_skF8ZaB",
        "outputId": "4bf43e07-7d2d-4351-8c8d-c35392317954"
      },
      "execution_count": 13,
      "outputs": [
        {
          "output_type": "stream",
          "name": "stdout",
          "text": [
            "Enter a number : 2\n",
            "Enter b number : 6\n",
            "Enter c number : 9\n",
            "Enter d number : 2\n",
            "Enter e number : 7\n",
            "9 is max\n"
          ]
        }
      ]
    },
    {
      "cell_type": "code",
      "source": [
        "m1 = int(input(\"Enter m1 number : \"))\n",
        "m2 = int(input(\"Enter m2 number : \"))\n",
        "m3 = int(input(\"Enter m3 number : \"))\n",
        "gender = input(\"Enter gender : \")\n",
        "total = m1+m2+m3\n",
        "percentage = total/3\n",
        "if percentage>=82 and gender == \"female\" :\n",
        "    print(\"She can take admission.\")\n",
        "elif percentage>=62 and gender == \"male\" :\n",
        "    print(\"He can take admission.\")\n",
        "else:\n",
        "  print(\"Can't take admission.\")\n"
      ],
      "metadata": {
        "colab": {
          "base_uri": "https://localhost:8080/"
        },
        "id": "AuJaAWWf-H7t",
        "outputId": "6d6a8ce8-39ca-4289-a641-ebccfab2575d"
      },
      "execution_count": 22,
      "outputs": [
        {
          "output_type": "stream",
          "name": "stdout",
          "text": [
            "Enter m1 number : 56\n",
            "Enter m2 number : 98\n",
            "Enter m3 number : 45\n",
            "Enter gender : female\n",
            "Can't take admission.\n",
            "Enter m1 number : 56\n",
            "Enter m2 number : 87\n",
            "Enter m3 number : 89\n",
            "Enter gender : male\n",
            "He can take admission.\n"
          ]
        }
      ]
    },
    {
      "cell_type": "code",
      "source": [
        "# find a year is a century leap year or not\n",
        "year = int(input(\"Enter year : \"))\n",
        "if year%100 == 0:\n",
        "    if year%400 == 0:\n",
        "        print(\" It is a century Leap year\")\n",
        "    else:\n",
        "        print(\"Not a century leap year\")\n",
        "elif year%4 == 0:\n",
        "    print(\"Leap year\")\n",
        "else:\n",
        "    print(\"Not leap year\")"
      ],
      "metadata": {
        "colab": {
          "base_uri": "https://localhost:8080/"
        },
        "id": "LKxmZ9GtA2BV",
        "outputId": "cd8eac05-e0ac-4e6b-c4dd-a9dc39c4c5d1"
      },
      "execution_count": 31,
      "outputs": [
        {
          "output_type": "stream",
          "name": "stdout",
          "text": [
            "Enter year : 2026\n",
            "Not leap year\n"
          ]
        }
      ]
    },
    {
      "cell_type": "code",
      "source": [
        "cp = int(input(\"Enter cost price : \"))\n",
        "aus =input(\"Are you student or not (y/n): \")\n",
        "if aus == \"y\" and cp > 500:\n",
        "  print(\"Your discpunt is 10%\")\n",
        "  netprice = cp - cp*10/100\n",
        "elif aus == \"y\" and cp < 500:\n",
        "  print(\"Your discpunt is 5%\")\n",
        "  netprice = cp - cp*5/100\n",
        "elif aus == \"n\" and cp > 500:\n",
        "  print(\"Your discpunt is 8%\")\n",
        "  netprice = cp - cp*8/100\n",
        "elif aus == \"n\" and cp < 500:\n",
        "  print(\"Your discpunt is 2%\")\n",
        "  netprice = cp - cp*2/100\n",
        "print(\"Net price is : \",netprice)"
      ],
      "metadata": {
        "colab": {
          "base_uri": "https://localhost:8080/"
        },
        "id": "c4YcKQiRCv-d",
        "outputId": "a62e0a1b-3f75-4ad7-9d2f-47b878dcfaa1"
      },
      "execution_count": 35,
      "outputs": [
        {
          "output_type": "stream",
          "name": "stdout",
          "text": [
            "Enter cost price : 400\n",
            "Are you student or not (y/n): y\n",
            "Your discpunt is 5%\n",
            "Net price is :  380.0\n"
          ]
        }
      ]
    },
    {
      "cell_type": "code",
      "source": [
        "char = input(\"Enter a character : \")\n",
        "char = ord(char)\n",
        "if char >= 65 and char <= 90:\n",
        "  print(\"Character is in Uppercase\")\n",
        "elif char >= 97 and char <= 122:\n",
        "  print(\"Character is in Lowercase\")\n",
        "elif char >= 48 and char <= 57:\n",
        "  print(\"Character is in number\")\n",
        "else:\n",
        "  print(\"Character is a special character\")"
      ],
      "metadata": {
        "colab": {
          "base_uri": "https://localhost:8080/"
        },
        "id": "UOHqtAd1FHiT",
        "outputId": "11b6f0b3-dc27-4c4d-b1b0-c4c23367fe55"
      },
      "execution_count": 43,
      "outputs": [
        {
          "output_type": "stream",
          "name": "stdout",
          "text": [
            "Enter a character : r\n",
            "Character is in Lowercase\n"
          ]
        }
      ]
    },
    {
      "cell_type": "code",
      "source": [
        "# if you want to execute a block of statements or no. of statements repeatedly again and again till the condition is satisfied the we use the loop;\n",
        "# for loop is used when range is given and while loop is used when range is not given"
      ],
      "metadata": {
        "id": "mVXoGFAZHVpL"
      },
      "execution_count": null,
      "outputs": []
    },
    {
      "cell_type": "code",
      "source": [
        "# reverse of a number\n",
        "a = int(input(\"Enter a number : \"))\n",
        "rev = 0\n",
        "while(a>0):\n",
        "  rev = rev*10+a%10\n",
        "  a = a//10\n",
        "print(rev)"
      ],
      "metadata": {
        "colab": {
          "base_uri": "https://localhost:8080/"
        },
        "id": "EqpnFodnJ1oK",
        "outputId": "abe97587-ac59-4542-a712-eba82f64f79c"
      },
      "execution_count": 52,
      "outputs": [
        {
          "output_type": "stream",
          "name": "stdout",
          "text": [
            "Enter a number : 123\n",
            "321\n"
          ]
        }
      ]
    },
    {
      "cell_type": "code",
      "source": [
        "# count the digit of a number\n",
        "a = int(input(\"Enter a number : \"))\n",
        "count = 0\n",
        "while(a>0):\n",
        "  count = count+1\n",
        "  a = a//10\n",
        "print(count)"
      ],
      "metadata": {
        "colab": {
          "base_uri": "https://localhost:8080/"
        },
        "id": "w1zQtRxfLUdA",
        "outputId": "808e8981-8982-46ae-d511-6556ac98d57f"
      },
      "execution_count": 53,
      "outputs": [
        {
          "output_type": "stream",
          "name": "stdout",
          "text": [
            "Enter a number : 1234\n",
            "4\n"
          ]
        }
      ]
    },
    {
      "cell_type": "code",
      "source": [
        "# sum of the digits of a number\n",
        "a = int(input(\"Enter a number : \"))\n",
        "sum = 0\n",
        "while(a>0):\n",
        "  sum = sum+a%10\n",
        "  a = a//10\n",
        "print(sum)"
      ],
      "metadata": {
        "colab": {
          "base_uri": "https://localhost:8080/"
        },
        "id": "Ou4lrvFnL4Fq",
        "outputId": "37182cf5-ca4e-4a3b-e03a-4db116b42d26"
      },
      "execution_count": 54,
      "outputs": [
        {
          "output_type": "stream",
          "name": "stdout",
          "text": [
            "Enter a number : 123456\n",
            "21\n"
          ]
        }
      ]
    },
    {
      "cell_type": "code",
      "source": [
        "# find the factorial of a number\n",
        "a = int(input(\"Enter a number : \"))\n",
        "fact = 1\n",
        "while(a>0):\n",
        "  fact = fact*a\n",
        "  a = a-1\n",
        "print(fact)"
      ],
      "metadata": {
        "colab": {
          "base_uri": "https://localhost:8080/"
        },
        "id": "AORyTsWtMKUG",
        "outputId": "d352e0a8-ee7e-482b-eb03-6d2c9f6a52b7"
      },
      "execution_count": 55,
      "outputs": [
        {
          "output_type": "stream",
          "name": "stdout",
          "text": [
            "Enter a number : 5\n",
            "120\n"
          ]
        }
      ]
    },
    {
      "cell_type": "code",
      "source": [
        "# multiplication of the digits of a number\n",
        "a = int(input(\"Enter a number : \"))\n",
        "mul = 1\n",
        "while(a>0):\n",
        "  mul = mul*(a%10)\n",
        "  a = a//10\n",
        "print(mul)"
      ],
      "metadata": {
        "colab": {
          "base_uri": "https://localhost:8080/"
        },
        "id": "bNPFYEfHMhYk",
        "outputId": "29ef6bec-24f8-45df-cbd7-89fb09043323"
      },
      "execution_count": 64,
      "outputs": [
        {
          "output_type": "stream",
          "name": "stdout",
          "text": [
            "Enter a number : 12344\n",
            "96\n"
          ]
        }
      ]
    },
    {
      "cell_type": "code",
      "source": [
        "# find the number whether it is a armstrong number or not\n",
        "a = int(input(\"Enter a number : \"))\n",
        "sum = 0\n",
        "temp = a\n",
        "count = 0\n",
        "while (temp > 0):\n",
        "  count = count +1\n",
        "  temp = temp//10\n",
        "temp1 = a\n",
        "while (temp1 > 0):\n",
        "  sum = sum + (temp1%10)**count\n",
        "  temp1 = temp1//10\n",
        "if sum == a :\n",
        "  print(\"It is a armsrong number\")\n",
        "else:\n",
        "  print(\"It is not a armstrong number\")"
      ],
      "metadata": {
        "colab": {
          "base_uri": "https://localhost:8080/"
        },
        "id": "KU4qGFrbNSOn",
        "outputId": "3232a110-a7c4-4111-974f-6eb66d49fccc"
      },
      "execution_count": 71,
      "outputs": [
        {
          "output_type": "stream",
          "name": "stdout",
          "text": [
            "Enter a number : 1634\n",
            "It is a armsrong number\n"
          ]
        }
      ]
    },
    {
      "cell_type": "code",
      "source": [
        "# find the armstrong number between 1 to 10000\n",
        "for i in range(1,10001):\n",
        "  sum = 0\n",
        "  temp = i\n",
        "  count = 0\n",
        "  while (temp > 0):\n",
        "    count = count +1\n",
        "    temp = temp//10\n",
        "  temp1 = i\n",
        "  while (temp1 > 0):\n",
        "    sum = sum + (temp1%10)**count\n",
        "    temp1 = temp1//10\n",
        "  if sum == i :\n",
        "    print(sum)"
      ],
      "metadata": {
        "colab": {
          "base_uri": "https://localhost:8080/"
        },
        "id": "cmMPZpHPQBr7",
        "outputId": "410914c7-4d24-486c-9c9c-f875f71d3699"
      },
      "execution_count": 74,
      "outputs": [
        {
          "output_type": "stream",
          "name": "stdout",
          "text": [
            "1\n",
            "2\n",
            "3\n",
            "4\n",
            "5\n",
            "6\n",
            "7\n",
            "8\n",
            "9\n",
            "153\n",
            "370\n",
            "371\n",
            "407\n",
            "1634\n",
            "8208\n",
            "9474\n"
          ]
        }
      ]
    },
    {
      "cell_type": "code",
      "source": [
        "# find the number is peterson or not\n",
        "a = int(input(\"Enter a number : \"))\n",
        "sum = 0\n",
        "temp = a\n",
        "while(a>0):\n",
        "  fact = 1\n",
        "  i = 1\n",
        "  n1 = a%10\n",
        "  while (i<=n1):\n",
        "    fact = fact * i\n",
        "    i = i+1\n",
        "  sum = sum + fact\n",
        "  a = a//10\n",
        "if sum == temp:\n",
        "  print(\"It is a peterson number\")\n",
        "else:\n",
        "  print(\"It is not a peterson number\")"
      ],
      "metadata": {
        "colab": {
          "base_uri": "https://localhost:8080/"
        },
        "id": "m9uOvPyYRYmr",
        "outputId": "01f30968-ae51-4c04-f801-fc60845e6ced"
      },
      "execution_count": 76,
      "outputs": [
        {
          "output_type": "stream",
          "name": "stdout",
          "text": [
            "Enter a number : 234\n",
            "It is not a peterson number\n"
          ]
        }
      ]
    },
    {
      "cell_type": "code",
      "source": [
        "# find the number is tech number or not\n",
        "a = int(input(\"Enter a number : \"))\n",
        "temp = a\n",
        "temp1=a\n",
        "sum = 0\n",
        "count = 0\n",
        "while(a>0):\n",
        "  count += 1\n",
        "  a = a//10\n",
        "print(count)\n",
        "div = 10**(count//2)\n",
        "if count % 2 == 0:\n",
        "  n1 = temp1%div\n",
        "  print(n1)\n",
        "  n2 = temp1//div\n",
        "  print(n2)\n",
        "  sum = n1+n2\n",
        "\n",
        "if (sum*sum) == temp:\n",
        "  print(\"It is a tech number\")\n",
        "else:\n",
        "  print(\"It is not a tech number\")"
      ],
      "metadata": {
        "colab": {
          "base_uri": "https://localhost:8080/"
        },
        "id": "Ek6kId6qUnhj",
        "outputId": "12f36bae-1fc2-4891-eb57-2cc7f1de4467"
      },
      "execution_count": 84,
      "outputs": [
        {
          "output_type": "stream",
          "name": "stdout",
          "text": [
            "Enter a number : 2025\n",
            "4\n",
            "25\n",
            "20\n",
            "It is a tech number\n"
          ]
        }
      ]
    }
  ]
}