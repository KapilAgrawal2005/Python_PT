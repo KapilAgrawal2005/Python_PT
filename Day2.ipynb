{
  "nbformat": 4,
  "nbformat_minor": 0,
  "metadata": {
    "colab": {
      "provenance": []
    },
    "kernelspec": {
      "name": "python3",
      "display_name": "Python 3"
    },
    "language_info": {
      "name": "python"
    }
  },
  "cells": [
    {
      "cell_type": "code",
      "execution_count": null,
      "metadata": {
        "id": "K9iEJj-MFz3e"
      },
      "outputs": [],
      "source": [
        "# Execution Controller"
      ]
    },
    {
      "cell_type": "code",
      "source": [
        "# break statement\n",
        "for i in range(1,11):\n",
        "  if i==5:\n",
        "    break;\n",
        "  print(i)"
      ],
      "metadata": {
        "colab": {
          "base_uri": "https://localhost:8080/"
        },
        "id": "M4kDtNjYHH1R",
        "outputId": "6cdf910f-eab0-44f0-c00c-4d8637385888"
      },
      "execution_count": null,
      "outputs": [
        {
          "output_type": "stream",
          "name": "stdout",
          "text": [
            "1\n",
            "2\n",
            "3\n",
            "4\n"
          ]
        }
      ]
    },
    {
      "cell_type": "code",
      "source": [
        "# continue statement\n",
        "for i in range(1,11):\n",
        "  if i==5:\n",
        "    continue;\n",
        "  print(i)"
      ],
      "metadata": {
        "colab": {
          "base_uri": "https://localhost:8080/"
        },
        "id": "b5yEz1fJHOct",
        "outputId": "9166831e-b6ac-4259-f769-5f5efd724dfb"
      },
      "execution_count": null,
      "outputs": [
        {
          "output_type": "stream",
          "name": "stdout",
          "text": [
            "1\n",
            "2\n",
            "3\n",
            "4\n",
            "6\n",
            "7\n",
            "8\n",
            "9\n",
            "10\n"
          ]
        }
      ]
    },
    {
      "cell_type": "code",
      "source": [
        "for i in range(1,11):\n",
        "  if i==3:\n",
        "    continue;\n",
        "  if i==6:\n",
        "    break;\n",
        "  print(i,10-i+1)"
      ],
      "metadata": {
        "colab": {
          "base_uri": "https://localhost:8080/"
        },
        "id": "xRvqwt1oH65I",
        "outputId": "17640098-26b6-4ee8-ee22-f3009b87e925"
      },
      "execution_count": null,
      "outputs": [
        {
          "output_type": "stream",
          "name": "stdout",
          "text": [
            "1 10\n",
            "2 9\n",
            "4 7\n",
            "5 6\n"
          ]
        }
      ]
    },
    {
      "cell_type": "code",
      "source": [
        "# patterns q1\n",
        "for i in range(1,5):\n",
        "  for j in range(1,5):\n",
        "    print(i,end=\"\")\n",
        "  print(end=\"\\n\")"
      ],
      "metadata": {
        "colab": {
          "base_uri": "https://localhost:8080/"
        },
        "id": "3RkXsquKJIuR",
        "outputId": "fceb41c1-1851-4ad9-b3ef-0b7a4371e967"
      },
      "execution_count": null,
      "outputs": [
        {
          "output_type": "stream",
          "name": "stdout",
          "text": [
            "1111\n",
            "2222\n",
            "3333\n",
            "4444\n"
          ]
        }
      ]
    },
    {
      "cell_type": "code",
      "source": [
        "# q2\n",
        "n=1\n",
        "for i in range(1,5):\n",
        "  for j in range(1,5):\n",
        "    print(n,end=\"\\t\")\n",
        "    n+=1\n",
        "  print(end=\"\\n\")"
      ],
      "metadata": {
        "colab": {
          "base_uri": "https://localhost:8080/"
        },
        "id": "hjLBWXxXMFWT",
        "outputId": "8b87b6d5-6bde-4fdd-fa1b-59037bd088ac"
      },
      "execution_count": null,
      "outputs": [
        {
          "output_type": "stream",
          "name": "stdout",
          "text": [
            "1\t2\t3\t4\t\n",
            "5\t6\t7\t8\t\n",
            "9\t10\t11\t12\t\n",
            "13\t14\t15\t16\t\n"
          ]
        }
      ]
    },
    {
      "cell_type": "code",
      "source": [
        "# q3\n",
        "char = 'A'\n",
        "for i in range(1,5):\n",
        "  for j in range(1,5):\n",
        "    print(char,end=\"\\t\")\n",
        "    char = chr(ord(char)+1)\n",
        "  print(end=\"\\n\")"
      ],
      "metadata": {
        "colab": {
          "base_uri": "https://localhost:8080/"
        },
        "id": "EprJifrSMxf_",
        "outputId": "abb6d639-4a7a-45f2-a7a5-97e32bebe8c7"
      },
      "execution_count": null,
      "outputs": [
        {
          "output_type": "stream",
          "name": "stdout",
          "text": [
            "A\tB\tC\tD\t\n",
            "E\tF\tG\tH\t\n",
            "I\tJ\tK\tL\t\n",
            "M\tN\tO\tP\t\n"
          ]
        }
      ]
    },
    {
      "cell_type": "code",
      "source": [
        "# q4\n",
        "for i in range(1,5):\n",
        "  for j in range(1,i+1):\n",
        "    print(i,end=\"\")\n",
        "  print(end=\"\\n\")"
      ],
      "metadata": {
        "colab": {
          "base_uri": "https://localhost:8080/"
        },
        "id": "WQY8FkFqNVXM",
        "outputId": "377f53ef-4c8d-4c3c-d8d4-dc455374101f"
      },
      "execution_count": null,
      "outputs": [
        {
          "output_type": "stream",
          "name": "stdout",
          "text": [
            "1\n",
            "22\n",
            "333\n",
            "4444\n"
          ]
        }
      ]
    },
    {
      "cell_type": "code",
      "source": [
        "# q5\n",
        "for i in range(1,5):\n",
        "  for j in range(5,1,-1):\n",
        "    if j > i:\n",
        "      print(\"*\",end=\"\")\n",
        "  print(end=\"\\n\")"
      ],
      "metadata": {
        "colab": {
          "base_uri": "https://localhost:8080/"
        },
        "id": "Km7_wbQ_OV7h",
        "outputId": "4597304d-0815-4fb5-cff6-2e0477fc9a60"
      },
      "execution_count": null,
      "outputs": [
        {
          "output_type": "stream",
          "name": "stdout",
          "text": [
            "****\n",
            "***\n",
            "**\n",
            "*\n"
          ]
        }
      ]
    },
    {
      "cell_type": "code",
      "source": [
        "# q6\n",
        "for i in range(1,5):\n",
        "  for j in range(1,i):\n",
        "    print(\" \",end=\"\")\n",
        "  for j in range(5,i,-1):\n",
        "    print(\"*\",end=\"\")\n",
        "  print(end=\"\\n\")"
      ],
      "metadata": {
        "colab": {
          "base_uri": "https://localhost:8080/"
        },
        "id": "zXR3DKNePD7J",
        "outputId": "62807534-2876-4091-ac70-a48afda1c1fb"
      },
      "execution_count": null,
      "outputs": [
        {
          "output_type": "stream",
          "name": "stdout",
          "text": [
            "****\n",
            " ***\n",
            "  **\n",
            "   *\n"
          ]
        }
      ]
    },
    {
      "cell_type": "code",
      "source": [
        "# q7\n",
        "for i in range(1,5):\n",
        "  for j in range(5,i,-1):\n",
        "    if j>i:\n",
        "      print(\" \",end=\"\")\n",
        "  for k in range(1,i+1):\n",
        "    print(\"*\",end=\"\")\n",
        "  print(end=\"\\n\")\n"
      ],
      "metadata": {
        "colab": {
          "base_uri": "https://localhost:8080/"
        },
        "id": "k4Rtf7taPZMQ",
        "outputId": "8b0f5070-70b7-432f-847f-992c1298c346"
      },
      "execution_count": null,
      "outputs": [
        {
          "output_type": "stream",
          "name": "stdout",
          "text": [
            "    *\n",
            "   **\n",
            "  ***\n",
            " ****\n"
          ]
        }
      ]
    },
    {
      "cell_type": "code",
      "source": [
        "# string handeling\n",
        "# find and rfind function\n",
        "s= \"Learning Python from Ashish sir is very easy\"\n",
        "print(s.find(\"Python\"))\n",
        "print(s.find(\"r\"))\n",
        "print(s.find(\"Ashish\"))\n",
        "print(s.find(\"kapil\"))\n",
        "print(s.rfind(\"r\"))"
      ],
      "metadata": {
        "id": "SscuuyiRRJT-",
        "colab": {
          "base_uri": "https://localhost:8080/"
        },
        "outputId": "281707a1-a551-4c47-e238-e45d629fa1e3"
      },
      "execution_count": null,
      "outputs": [
        {
          "output_type": "stream",
          "name": "stdout",
          "text": [
            "9\n",
            "3\n",
            "21\n",
            "-1\n",
            "37\n"
          ]
        }
      ]
    },
    {
      "cell_type": "code",
      "source": [
        "s = \"abaaabssbababababbbbabaaaaa\"\n",
        "print(s.count(\"ab\"))\n",
        "print(s.count(\"b\"))\n",
        "print(s.count(\"a\"))\n",
        "print(s.count('a',3,10))"
      ],
      "metadata": {
        "id": "ju2O_SrVVGk9",
        "colab": {
          "base_uri": "https://localhost:8080/"
        },
        "outputId": "d64383aa-0571-4cea-c0e7-a041b5f02116"
      },
      "execution_count": null,
      "outputs": [
        {
          "output_type": "stream",
          "name": "stdout",
          "text": [
            "7\n",
            "11\n",
            "14\n",
            "3\n"
          ]
        }
      ]
    },
    {
      "cell_type": "code",
      "source": [
        "s = \"Learning Python from Ashish sir is very easy\"\n",
        "print(s.replace(\"easy\",\"difficult\"))"
      ],
      "metadata": {
        "colab": {
          "base_uri": "https://localhost:8080/"
        },
        "id": "7nIwJKXQVqyb",
        "outputId": "b2c5a618-57d5-4364-ef1e-4745fcad7c7d"
      },
      "execution_count": null,
      "outputs": [
        {
          "output_type": "stream",
          "name": "stdout",
          "text": [
            "Learning Python from Ashish sir is very difficult\n"
          ]
        }
      ]
    },
    {
      "cell_type": "code",
      "source": [
        "# immutable means can't be change in the same memory and mutable is just opposite"
      ],
      "metadata": {
        "id": "fvA4mTWSWGUH"
      },
      "execution_count": null,
      "outputs": []
    },
    {
      "cell_type": "code",
      "source": [
        "# split function\n",
        "s = \"Learning Python from Ashish sir is very easy\"\n",
        "l = s.split()\n",
        "print(l)\n",
        "print(type(l))\n",
        "for x in l:\n",
        "  print(x)"
      ],
      "metadata": {
        "colab": {
          "base_uri": "https://localhost:8080/"
        },
        "id": "MQqr0TsCXxBG",
        "outputId": "247b980d-1f75-4d10-9ed3-af3e6b188e7f"
      },
      "execution_count": null,
      "outputs": [
        {
          "output_type": "stream",
          "name": "stdout",
          "text": [
            "['Learning', 'Python', 'from', 'Ashish', 'sir', 'is', 'very', 'easy']\n",
            "<class 'list'>\n",
            "Learning\n",
            "Python\n",
            "from\n",
            "Ashish\n",
            "sir\n",
            "is\n",
            "very\n",
            "easy\n"
          ]
        }
      ]
    },
    {
      "cell_type": "code",
      "source": [
        "# split functiion\n",
        "s = \"22-02-2022\"\n",
        "l = s.split(\"-\")\n",
        "print(l)"
      ],
      "metadata": {
        "colab": {
          "base_uri": "https://localhost:8080/"
        },
        "id": "PenApBwyXyte",
        "outputId": "fe284347-8e75-42c7-f63a-fdf6c19e190a"
      },
      "execution_count": null,
      "outputs": [
        {
          "output_type": "stream",
          "name": "stdout",
          "text": [
            "['22', '02', '2022']\n"
          ]
        }
      ]
    },
    {
      "cell_type": "code",
      "source": [
        "# join function\n",
        "l = [\"Nagpur\", \"Delhi\", \"Mumbai\"]\n",
        "s = \" \".join(l)\n",
        "print(s)"
      ],
      "metadata": {
        "colab": {
          "base_uri": "https://localhost:8080/"
        },
        "id": "i1JqXNkXYyKP",
        "outputId": "f65a6e73-e435-4606-8977-93b71f5202c9"
      },
      "execution_count": null,
      "outputs": [
        {
          "output_type": "stream",
          "name": "stdout",
          "text": [
            "Nagpur Delhi Mumbai\n"
          ]
        }
      ]
    },
    {
      "cell_type": "code",
      "source": [
        "s='learning Python is very Easy from Ashish sir'\n",
        "print(s.upper ())\n",
        "print(s. lower())\n",
        "print(s. swapcase())\n",
        "print(s.title())\n",
        "print(s. capitalize())"
      ],
      "metadata": {
        "colab": {
          "base_uri": "https://localhost:8080/"
        },
        "id": "QFL56_AyZb2h",
        "outputId": "8a326a87-1c5f-4d63-bc8d-b4dc5a24a911"
      },
      "execution_count": null,
      "outputs": [
        {
          "output_type": "stream",
          "name": "stdout",
          "text": [
            "LEARNING PYTHON IS VERY EASY FROM ASHISH SIR\n",
            "learning python is very easy from ashish sir\n",
            "LEARNING pYTHON IS VERY eASY FROM aSHISH SIR\n",
            "Learning Python Is Very Easy From Ashish Sir\n",
            "Learning python is very easy from ashish sir\n"
          ]
        }
      ]
    },
    {
      "cell_type": "code",
      "source": [
        "s='learning Python is very Easy from Ashish sir'\n",
        "print(s. startswith( 'learning' ))\n",
        "print(s. endswith( 'learning' ))\n",
        "print(s.endswith('sir'))"
      ],
      "metadata": {
        "colab": {
          "base_uri": "https://localhost:8080/"
        },
        "id": "I2xcvPgMaJQX",
        "outputId": "0809ae1b-af06-43df-9f19-001378fae87d"
      },
      "execution_count": null,
      "outputs": [
        {
          "output_type": "stream",
          "name": "stdout",
          "text": [
            "True\n",
            "False\n",
            "True\n"
          ]
        }
      ]
    },
    {
      "cell_type": "code",
      "source": [
        "print ('Ashish786' .isalnum ())\n",
        "\n",
        "print('ashish786' .isalpha())\n",
        "print( 'ashish' .isalpha())\n",
        "\n",
        "print('ashish' .isdigit())\n",
        "print('786786' .isdigit())\n",
        "\n",
        "print('abc' .islower())\n",
        "print( 'Abc'. islower())\n",
        "print('abc123' .islower())\n",
        "print( 'ABC' .isupper())\n",
        "print( 'Learning python is Easy from Ashish Sir'.istitle())\n",
        "print( 'Learning Python Is Easy From Ashish Sir'.istitle())\n",
        "print(' '.isspace())"
      ],
      "metadata": {
        "colab": {
          "base_uri": "https://localhost:8080/"
        },
        "id": "WMXI8BcyaUrE",
        "outputId": "e523fbca-c085-4b41-f358-0cebf548d15c"
      },
      "execution_count": null,
      "outputs": [
        {
          "output_type": "stream",
          "name": "stdout",
          "text": [
            "True\n",
            "False\n",
            "True\n",
            "False\n",
            "True\n",
            "True\n",
            "False\n",
            "True\n",
            "True\n",
            "False\n",
            "True\n",
            "True\n"
          ]
        }
      ]
    },
    {
      "cell_type": "code",
      "source": [
        "mob = input(\"enter the number : \")\n",
        "if mob.isdigit():\n",
        "  if len(mob)==10:\n",
        "    if mob.startswith('7') or mob.startswith('8') or mob.startswith('9') or mob.startswith('6'):\n",
        "      print(\"valid number\")\n",
        "    else:\n",
        "      print(\"No. is not starting with 6 or 7 or 8 or 9\")\n",
        "  else:\n",
        "    print(\"Number is not of 10 digit\")\n",
        "else:\n",
        "  print(\"No. is not a digit\")"
      ],
      "metadata": {
        "colab": {
          "base_uri": "https://localhost:8080/"
        },
        "id": "lYHrY1mkbAWF",
        "outputId": "6f096e0a-cf2e-4871-e56f-0c8becf26d4c"
      },
      "execution_count": null,
      "outputs": [
        {
          "output_type": "stream",
          "name": "stdout",
          "text": [
            "enter the number : 23456\n",
            "Number is not of 10 digit\n"
          ]
        }
      ]
    },
    {
      "cell_type": "code",
      "source": [
        "# reverse a string\n",
        "s = input(\"Enter a string : \")\n",
        "print(s[::-1])\n",
        "s = input(\"Enter a string : \")\n",
        "print(\"\".join(reversed(s)))"
      ],
      "metadata": {
        "colab": {
          "base_uri": "https://localhost:8080/"
        },
        "id": "O4vzsVqgdLwd",
        "outputId": "b6e0e1ca-bd55-4e8f-e45d-3c958e988535"
      },
      "execution_count": null,
      "outputs": [
        {
          "output_type": "stream",
          "name": "stdout",
          "text": [
            "Enter a string : kapil\n",
            "lipak\n",
            "Enter a string : kapil\n",
            "lipak\n"
          ]
        }
      ]
    },
    {
      "cell_type": "code",
      "source": [
        "# reverse a string without using any function\n",
        "s = input(\"Enter a string : \")\n",
        "p = ''\n",
        "for x in s:\n",
        "  p = x + p\n",
        "print(p)"
      ],
      "metadata": {
        "colab": {
          "base_uri": "https://localhost:8080/"
        },
        "id": "4dlZV_DrdtpT",
        "outputId": "6f21221b-0511-4682-8a99-e7739eef2f36"
      },
      "execution_count": null,
      "outputs": [
        {
          "output_type": "stream",
          "name": "stdout",
          "text": [
            "Enter a string : kapil\n",
            "lipak\n"
          ]
        }
      ]
    },
    {
      "cell_type": "code",
      "source": [
        "# input : \"Learning Python is very Easy from Ashish Sir\"\n",
        "# output : \"Sir Ashish from Ashish Easy Very is Python Learning\"\n",
        "s = \"Learning Python is very Easy from Ashish Sir\"\n",
        "l = s.split()\n",
        "p = ''\n",
        "for x in l:\n",
        "  p = x + ' ' + p\n",
        "print(p)"
      ],
      "metadata": {
        "colab": {
          "base_uri": "https://localhost:8080/"
        },
        "id": "SuHFJ4jVegj9",
        "outputId": "f9973a1b-ba92-475b-cd1e-9da8209f0e86"
      },
      "execution_count": null,
      "outputs": [
        {
          "output_type": "stream",
          "name": "stdout",
          "text": [
            "Sir Ashish from Easy very is Python Learning \n"
          ]
        }
      ]
    },
    {
      "cell_type": "code",
      "source": [
        "# input : \"Learning Python is very Easy from Ashish Sir\"\n",
        "# output : \"gninraeL nohtyP si yrev ysaE morf hsihsA riS\"\n",
        "s= \"Learning Python is very Easy from Ashish Sir\"\n",
        "l = s.split()\n",
        "p = ''\n",
        "for x in l:\n",
        "  p = p + \" \" + x[::-1]\n",
        "print(p)"
      ],
      "metadata": {
        "colab": {
          "base_uri": "https://localhost:8080/"
        },
        "id": "PC7qlBbWhPZo",
        "outputId": "8017a14c-3307-46d7-db15-735c114e49ea"
      },
      "execution_count": null,
      "outputs": [
        {
          "output_type": "stream",
          "name": "stdout",
          "text": [
            " gninraeL nohtyP si yrev ysaE morf hsihsA riS\n"
          ]
        }
      ]
    },
    {
      "cell_type": "code",
      "source": [
        "# input: ABCDABBCDABBBCCCDDEEEF\n",
        "# output: ABCDEF\n",
        "# unique string\n",
        "s= \"ABDACDABBCDABBBCCCDDEEEF\"\n",
        "x = ''\n",
        "for i in s:\n",
        "  if i not in x:\n",
        "    x = x + i\n",
        "print(x)"
      ],
      "metadata": {
        "colab": {
          "base_uri": "https://localhost:8080/"
        },
        "id": "lZhWT21JitMs",
        "outputId": "fd057833-6946-4fb1-8ef2-66d7e51b74df"
      },
      "execution_count": null,
      "outputs": [
        {
          "output_type": "stream",
          "name": "stdout",
          "text": [
            "ABDCEF\n"
          ]
        }
      ]
    },
    {
      "cell_type": "code",
      "source": [
        "# list\n",
        "list=[]\n",
        "list. append (\"A\")\n",
        "list. append (\"B\")\n",
        "list. append (\"C\")\n",
        "print(list)"
      ],
      "metadata": {
        "colab": {
          "base_uri": "https://localhost:8080/"
        },
        "id": "X9umdICgj6Nu",
        "outputId": "d8690b21-9348-4ad4-e189-9d33b7e342f8"
      },
      "execution_count": null,
      "outputs": [
        {
          "output_type": "stream",
          "name": "stdout",
          "text": [
            "['A', 'B', 'C']\n"
          ]
        }
      ]
    },
    {
      "cell_type": "code",
      "source": [
        "list=[]\n",
        "for i in range (101):\n",
        "  if i%10==0:\n",
        "    list.append(i)\n",
        "print(list)"
      ],
      "metadata": {
        "colab": {
          "base_uri": "https://localhost:8080/"
        },
        "id": "yT5XSf4gn8B9",
        "outputId": "1568960c-3ac0-4014-cbdf-b9c0c0eb4b68"
      },
      "execution_count": null,
      "outputs": [
        {
          "output_type": "stream",
          "name": "stdout",
          "text": [
            "[0, 10, 20, 30, 40, 50, 60, 70, 80, 90, 100]\n"
          ]
        }
      ]
    },
    {
      "cell_type": "code",
      "source": [
        "# extend function\n",
        "order1=[\"Apple\", \"Mango\", \"Banana\"]\n",
        "order2=[ \"PEPSI\", \"COKE\" , \"DEW\" ]\n",
        "order1.extend(order2)\n",
        "print(order1)"
      ],
      "metadata": {
        "colab": {
          "base_uri": "https://localhost:8080/"
        },
        "id": "HsdK4xTpoC1i",
        "outputId": "96f4144a-d46a-4fd3-fc16-9b3f8c854e93"
      },
      "execution_count": null,
      "outputs": [
        {
          "output_type": "stream",
          "name": "stdout",
          "text": [
            "['Apple', 'Mango', 'Banana', 'PEPSI', 'COKE', 'DEW']\n"
          ]
        }
      ]
    },
    {
      "cell_type": "code",
      "source": [
        "# remove function\n",
        "n = [10,20,30,10]\n",
        "n.remove(10)\n",
        "print(n)"
      ],
      "metadata": {
        "colab": {
          "base_uri": "https://localhost:8080/"
        },
        "id": "xc1PoObRok1m",
        "outputId": "e0f3016d-600d-467d-8ec4-d603bd8212aa"
      },
      "execution_count": null,
      "outputs": [
        {
          "output_type": "stream",
          "name": "stdout",
          "text": [
            "[20, 30, 10]\n"
          ]
        }
      ]
    },
    {
      "cell_type": "code",
      "source": [
        "# pop function\n",
        "n = [10,20,30,10]\n",
        "n.pop()\n",
        "print(n)"
      ],
      "metadata": {
        "colab": {
          "base_uri": "https://localhost:8080/"
        },
        "id": "_SaKyeD3qIlu",
        "outputId": "bbe6141e-1420-4848-ca33-5e8e80174688"
      },
      "execution_count": null,
      "outputs": [
        {
          "output_type": "stream",
          "name": "stdout",
          "text": [
            "[10, 20, 30]\n"
          ]
        }
      ]
    },
    {
      "cell_type": "code",
      "source": [
        "# reverse function\n",
        "n = [10,20,30,10]\n",
        "n.reverse()\n",
        "print(n)"
      ],
      "metadata": {
        "colab": {
          "base_uri": "https://localhost:8080/"
        },
        "id": "PWZcU9x5quoL",
        "outputId": "21a97dc5-0b5a-4234-a15d-7b8d966b71dd"
      },
      "execution_count": null,
      "outputs": [
        {
          "output_type": "stream",
          "name": "stdout",
          "text": [
            "[10, 30, 20, 10]\n"
          ]
        }
      ]
    },
    {
      "cell_type": "code",
      "source": [
        "n1=[10,20,10,30]\n",
        "n2=[2,42,4,24, 2]\n",
        "res=n1+n2\n",
        "print(res)\n",
        "res = n1 * 3\n",
        "print(res)"
      ],
      "metadata": {
        "id": "wWtiUdgtqx-k",
        "colab": {
          "base_uri": "https://localhost:8080/"
        },
        "outputId": "d5478d43-a82b-4676-9980-ce72abc109f0"
      },
      "execution_count": null,
      "outputs": [
        {
          "output_type": "stream",
          "name": "stdout",
          "text": [
            "[10, 20, 10, 30, 2, 42, 4, 24, 2]\n",
            "[10, 20, 10, 30, 10, 20, 10, 30, 10, 20, 10, 30]\n"
          ]
        }
      ]
    },
    {
      "cell_type": "code",
      "source": [
        "# Nested List\n",
        "n=[10,20, 30, [23, 56, 23]]\n",
        "print(n[0])\n",
        "print(n[2])\n",
        "print(n[3])\n",
        "print(n[3][0])"
      ],
      "metadata": {
        "id": "2gOO3DtI80dA",
        "colab": {
          "base_uri": "https://localhost:8080/"
        },
        "outputId": "ed0bf574-1f19-456b-dbc9-c11d350f8a63"
      },
      "execution_count": null,
      "outputs": [
        {
          "output_type": "stream",
          "name": "stdout",
          "text": [
            "10\n",
            "30\n",
            "[23, 56, 23]\n",
            "23\n"
          ]
        }
      ]
    },
    {
      "cell_type": "code",
      "source": [
        "n=[[10,20, 30], [40, 50, 60], [70, 80, 90]]\n",
        "print(n)\n",
        "for x in n:\n",
        "  print (x)\n",
        "for i in range(len(n)):\n",
        "  for j in range(len(n[i])):\n",
        "    print(n[i][j],end=\" \")\n",
        "  print()"
      ],
      "metadata": {
        "colab": {
          "base_uri": "https://localhost:8080/"
        },
        "id": "4oh8e6GO9gxR",
        "outputId": "1be77eb4-43a6-4fa6-cf48-666f61a9477e"
      },
      "execution_count": null,
      "outputs": [
        {
          "output_type": "stream",
          "name": "stdout",
          "text": [
            "[[10, 20, 30], [40, 50, 60], [70, 80, 90]]\n",
            "[10, 20, 30]\n",
            "[40, 50, 60]\n",
            "[70, 80, 90]\n",
            "10 20 30 \n",
            "40 50 60 \n",
            "70 80 90 \n"
          ]
        }
      ]
    },
    {
      "cell_type": "code",
      "source": [
        "sem = int(input(\"Enter the No. of Semester :- \"))\n",
        "sub = []\n",
        "for i in range(sem):\n",
        "  print(\"Enter the no of subject in \", i + 1, \"Semester :- \")\n",
        "  sb = int(input())\n",
        "  sub.append(sb)\n",
        "\n",
        "sma = []\n",
        "maxMarks = []\n",
        "for i in range(sem):\n",
        "  for j in range(sub[i]):\n",
        "    print(\"Enter the \", i + 1, \" semester \", j + 1,  \" subject Marks :- \")\n",
        "    sm = int(input())\n",
        "    sma.append(sm)\n",
        "print(sub)\n",
        "print(sma)\n",
        "\n",
        "count = 0\n",
        "p = 0\n",
        "for i in range(len(sub)):\n",
        "  x = sub[i]\n",
        "  count += x\n",
        "  maxi = 0\n",
        "  for j in range(p, count):\n",
        "    if j < len(sma) and sma[j] > maxi:\n",
        "      maxi = sma[j]\n",
        "  p = count\n",
        "  maxMarks.append(maxi)\n",
        "\n",
        "\n",
        "for i in range(len(maxMarks)) :\n",
        "    print(\"Maximum marks in \", i + 1, \" semester :- \", maxMarks[i])"
      ],
      "metadata": {
        "colab": {
          "base_uri": "https://localhost:8080/"
        },
        "id": "U7QEkUAc-3f6",
        "outputId": "4125cf41-538b-42c6-c026-07affbb76775"
      },
      "execution_count": 1,
      "outputs": [
        {
          "output_type": "stream",
          "name": "stdout",
          "text": [
            "Enter the No. of Semester :- 3\n",
            "Enter the no of subject in  1 Semester :- \n",
            "3\n",
            "Enter the no of subject in  2 Semester :- \n",
            "3\n",
            "Enter the no of subject in  3 Semester :- \n",
            "3\n",
            "Enter the  1  semester  1  subject Marks :- \n",
            "89\n",
            "Enter the  1  semester  2  subject Marks :- \n",
            "89\n",
            "Enter the  1  semester  3  subject Marks :- \n",
            "89\n",
            "Enter the  2  semester  1  subject Marks :- \n",
            "09\n",
            "Enter the  2  semester  2  subject Marks :- \n",
            "78\n",
            "Enter the  2  semester  3  subject Marks :- \n",
            "45\n",
            "Enter the  3  semester  1  subject Marks :- \n",
            "67\n",
            "Enter the  3  semester  2  subject Marks :- \n",
            "98\n",
            "Enter the  3  semester  3  subject Marks :- \n",
            "87\n",
            "[3, 3, 3]\n",
            "[89, 89, 89, 9, 78, 45, 67, 98, 87]\n",
            "Maximum marks in  1  semester :-  89\n",
            "Maximum marks in  2  semester :-  78\n",
            "Maximum marks in  3  semester :-  98\n"
          ]
        }
      ]
    },
    {
      "cell_type": "code",
      "source": [
        "# remove the duplicate numbers from the list\n",
        "l = [22,56,67,67,45,22]\n",
        "s = set(l)\n",
        "print(s)"
      ],
      "metadata": {
        "colab": {
          "base_uri": "https://localhost:8080/"
        },
        "id": "iIxiuRqBJF3a",
        "outputId": "1291bd87-ea94-4e38-db85-6aa7c3fab5ae"
      },
      "execution_count": null,
      "outputs": [
        {
          "output_type": "stream",
          "name": "stdout",
          "text": [
            "{56, 67, 45, 22}\n"
          ]
        }
      ]
    },
    {
      "cell_type": "code",
      "source": [
        "# dictionary\n",
        "d = {}\n",
        "d[100] = 'Kapil'\n",
        "d[200] = 'Ashish'\n",
        "d[300] = 'Nagpur'\n",
        "print(d)\n",
        "print(d[100])\n",
        "d[200] = 'Agarawl'\n",
        "print(d)"
      ],
      "metadata": {
        "colab": {
          "base_uri": "https://localhost:8080/"
        },
        "id": "BRMk1EOnLRul",
        "outputId": "9e40f0d4-9dfc-4b68-e235-cbb303c9e694"
      },
      "execution_count": null,
      "outputs": [
        {
          "output_type": "stream",
          "name": "stdout",
          "text": [
            "{100: 'Kapil', 200: 'Ashish', 300: 'Nagpur'}\n",
            "Kapil\n",
            "{100: 'Kapil', 200: 'Agarawl', 300: 'Nagpur'}\n"
          ]
        }
      ]
    },
    {
      "cell_type": "code",
      "source": [
        "rec = {}\n",
        "n= int(input(\"Enter the number of students : \"))\n",
        "for i in range (0,n):\n",
        "  name= input(\"Enter the name : \")\n",
        "  marks = int(input(\"Enter the marks : \"))\n",
        "  rec[name] = marks\n",
        "for i in rec:\n",
        "  print(i,\"\\t\",rec[i])"
      ],
      "metadata": {
        "colab": {
          "base_uri": "https://localhost:8080/"
        },
        "id": "aQke0E3KMoq7",
        "outputId": "2ac3717c-edcc-400f-e55e-0e27c3843919"
      },
      "execution_count": null,
      "outputs": [
        {
          "output_type": "stream",
          "name": "stdout",
          "text": [
            "Enter the number of students : 5\n",
            "Enter the name : kapil\n",
            "Enter the marks : 90\n",
            "Enter the name : shubham\n",
            "Enter the marks : 90\n",
            "Enter the name : chirag\n",
            "Enter the marks : 90\n",
            "Enter the name : akshat\n",
            "Enter the marks : 78\n",
            "Enter the name : ruchir\n",
            "Enter the marks : 89\n",
            "kapil \t 90\n",
            "shubham \t 90\n",
            "chirag \t 90\n",
            "akshat \t 78\n",
            "ruchir \t 89\n"
          ]
        }
      ]
    },
    {
      "cell_type": "code",
      "source": [
        "# get function\n",
        "d={100: 'ashish' ,200: 'Prashant', 300: 'sandip'}\n",
        "print(d[100])\n",
        "print(d.get(100))\n",
        "print(d.get(400))\n",
        "print(d.get(400,\"Guest\"))\n",
        "print(d.get(100,\"Guest\" ))"
      ],
      "metadata": {
        "colab": {
          "base_uri": "https://localhost:8080/"
        },
        "id": "t3VDie9_O4sJ",
        "outputId": "6b9b3465-27e5-49a0-dfbc-c7c59beab396"
      },
      "execution_count": null,
      "outputs": [
        {
          "output_type": "stream",
          "name": "stdout",
          "text": [
            "ashish\n",
            "ashish\n",
            "None\n",
            "Guest\n",
            "ashish\n"
          ]
        }
      ]
    },
    {
      "cell_type": "code",
      "source": [
        "d={100: 'ashish' ,200: 'Prashant', 300: 'sandip'}\n",
        "print(d.keys())\n",
        "for i in d.keys():\n",
        "  print(i)"
      ],
      "metadata": {
        "colab": {
          "base_uri": "https://localhost:8080/"
        },
        "id": "W-OiYndCREt_",
        "outputId": "06ac407c-3658-4458-baa3-c04e40172fd9"
      },
      "execution_count": null,
      "outputs": [
        {
          "output_type": "stream",
          "name": "stdout",
          "text": [
            "dict_keys([100, 200, 300])\n",
            "100\n",
            "200\n",
            "300\n"
          ]
        }
      ]
    },
    {
      "cell_type": "code",
      "source": [
        "d={100: 'ashish' ,200: 'Prashant', 300: 'sandip'}\n",
        "print(d.values())\n",
        "for i in d.values():\n",
        "  print(i)"
      ],
      "metadata": {
        "colab": {
          "base_uri": "https://localhost:8080/"
        },
        "id": "XSMSEDx5RPTN",
        "outputId": "52380607-634e-42b5-f429-6cb47d059518"
      },
      "execution_count": null,
      "outputs": [
        {
          "output_type": "stream",
          "name": "stdout",
          "text": [
            "dict_values(['ashish', 'Prashant', 'sandip'])\n",
            "ashish\n",
            "Prashant\n",
            "sandip\n"
          ]
        }
      ]
    },
    {
      "cell_type": "code",
      "source": [
        "d={100: 'ashish' ,200: 'Prashant', 300: 'sandip'}\n",
        "print(d.keys())\n",
        "for i,j in d.items():\n",
        "  print(i,\"-->\",j)"
      ],
      "metadata": {
        "colab": {
          "base_uri": "https://localhost:8080/"
        },
        "id": "lT3dJmRyRtWw",
        "outputId": "ef0c3f28-aadc-41ab-fc23-33daa8b14524"
      },
      "execution_count": null,
      "outputs": [
        {
          "output_type": "stream",
          "name": "stdout",
          "text": [
            "dict_keys([100, 200, 300])\n",
            "100 --> ashish\n",
            "200 --> Prashant\n",
            "300 --> sandip\n"
          ]
        }
      ]
    },
    {
      "cell_type": "code",
      "source": [
        "d = {}\n",
        "sum = 0\n",
        "n = int(input(\"Enter the number of elements : \"))\n",
        "for i in range(0,n):\n",
        "  key = input(\"Enter the key : \")\n",
        "  value = int(input(\"Enter the value : \"))\n",
        "  d[key] = value\n",
        "print(d)\n",
        "for j in d.values():\n",
        "  sum = sum + j\n",
        "print(sum)"
      ],
      "metadata": {
        "colab": {
          "base_uri": "https://localhost:8080/"
        },
        "id": "ZNUa9OYRSAaj",
        "outputId": "90beed9a-935a-4678-f95f-2eb4d6eef3d6"
      },
      "execution_count": null,
      "outputs": [
        {
          "output_type": "stream",
          "name": "stdout",
          "text": [
            "Enter the number of elements : 3\n",
            "Enter the key : 1\n",
            "Enter the value : 10\n",
            "Enter the key : 2\n",
            "Enter the value : 100\n",
            "Enter the key : 3\n",
            "Enter the value : 1000\n",
            "{'1': 10, '2': 100, '3': 1000}\n",
            "1110\n"
          ]
        }
      ]
    },
    {
      "cell_type": "code",
      "source": [
        "n = 4\n",
        "l = [1,3,2,4]\n",
        "fl = []\n",
        "for i in range(len(l)):\n",
        "  for j in range (i+1,len(l)):\n",
        "    if(l[j]>l[i]):\n",
        "      fl.append(l[j])\n",
        "      break\n",
        "fl.append(-1)\n",
        "print(fl)"
      ],
      "metadata": {
        "colab": {
          "base_uri": "https://localhost:8080/"
        },
        "id": "jXXdhzuOToev",
        "outputId": "30219f86-0e63-4c74-ba0e-eb5559aeae5f"
      },
      "execution_count": null,
      "outputs": [
        {
          "output_type": "stream",
          "name": "stdout",
          "text": [
            "[3, 4, 4, -1]\n"
          ]
        }
      ]
    },
    {
      "cell_type": "code",
      "source": [
        "input = \"aabbbbeeeeffggg\"\n",
        "output = \"\"\n",
        "count = 1\n",
        "i = 0\n",
        "while i < len(input):\n",
        "    x = input[i]\n",
        "    for j in range(i + 1, len(input)):\n",
        "        if x == input[j]:\n",
        "            count += 1\n",
        "        else:\n",
        "            break\n",
        "    output += x + str(count)\n",
        "    i += count\n",
        "    count = 1\n",
        "print(output)"
      ],
      "metadata": {
        "colab": {
          "base_uri": "https://localhost:8080/"
        },
        "id": "WquO-QnSWzSQ",
        "outputId": "8d86e9c0-a765-4901-c878-13c657dbef3f"
      },
      "execution_count": null,
      "outputs": [
        {
          "output_type": "stream",
          "name": "stdout",
          "text": [
            "a2b4e4f2g3\n"
          ]
        }
      ]
    },
    {
      "cell_type": "code",
      "source": [
        "# s1 = \"AnAgram\"\n",
        "# s2 = \"NaGaRaM\"\n",
        "# s1 = s1.lower()\n",
        "# s2 = s2.lower()\n",
        "# count = 0\n",
        "# for i in s1:\n",
        "#   for j in s2:\n",
        "#     if len(s1) == len(s2):\n",
        "#       if i == j:\n",
        "#         count += 1\n",
        "#         break\n",
        "#     else:\n",
        "#       print(\"No\")\n",
        "# if count == len(s1):\n",
        "#   print(\"Yes\")\n",
        "# else:\n",
        "#   print(\"No\")\n",
        "\n",
        "str1 = \"silent\"\n",
        "str2 = \"Listen\"\n",
        "l1 = str1.lower()\n",
        "l2 = str2.lower()\n",
        "\n",
        "if (len(l1) == len(l2)) and (sorted(l1) == sorted(l2)):\n",
        "    print(\"Anagram\")\n",
        "else:\n",
        "    print(\"Not Anagram\")"
      ],
      "metadata": {
        "colab": {
          "base_uri": "https://localhost:8080/"
        },
        "id": "1Z-TYWV-aZQQ",
        "outputId": "38fdad39-0808-4676-950d-c88039ed7287"
      },
      "execution_count": null,
      "outputs": [
        {
          "output_type": "stream",
          "name": "stdout",
          "text": [
            "Anagram\n"
          ]
        }
      ]
    },
    {
      "cell_type": "code",
      "source": [
        "# no of operators required to one string to another string\n",
        "s1 = \"ycce\"\n",
        "s2 = \"ycsce\""
      ],
      "metadata": {
        "id": "8Zo-xk3PeuGZ"
      },
      "execution_count": null,
      "outputs": []
    },
    {
      "cell_type": "code",
      "source": [],
      "metadata": {
        "id": "Wd5oKvmnfCFP"
      },
      "execution_count": null,
      "outputs": []
    }
  ]
}